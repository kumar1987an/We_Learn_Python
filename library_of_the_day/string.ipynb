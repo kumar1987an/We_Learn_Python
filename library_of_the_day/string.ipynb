{
 "cells": [
  {
   "cell_type": "markdown",
   "id": "da706afd-c51d-4bad-81ba-c32049cdfeaa",
   "metadata": {},
   "source": [
    "# **string - a Built-in Library**\n",
    "Python Version: 3.9.5"
   ]
  },
  {
   "cell_type": "markdown",
   "id": "81457315-df44-4639-b228-31ba250609ef",
   "metadata": {},
   "source": [
    "**This module will help you easily access some string constants**"
   ]
  },
  {
   "cell_type": "markdown",
   "id": "2fa7dc26-9c11-4605-810c-22f44def8493",
   "metadata": {},
   "source": [
    "- In python strings are group alpha, numeric, punctuations and meta characters are inside a set of \" \" or a ' '\n",
    "- also characters in python is a representation of ASCII value\n",
    "\n",
    "- python has a convertor to convert numbers into characters and vice versa"
   ]
  },
  {
   "cell_type": "code",
   "execution_count": 1,
   "id": "0302b436-d929-4b97-bff0-df275e2af893",
   "metadata": {},
   "outputs": [
    {
     "name": "stdout",
     "output_type": "stream",
     "text": [
      "97\n"
     ]
    }
   ],
   "source": [
    "# Ascii code for 'A'\n",
    "\n",
    "print(ord('a'))"
   ]
  },
  {
   "cell_type": "code",
   "execution_count": 2,
   "id": "9007d518-6226-441c-ba60-6d03b7701589",
   "metadata": {},
   "outputs": [
    {
     "name": "stdout",
     "output_type": "stream",
     "text": [
      "65\n"
     ]
    }
   ],
   "source": [
    "# Ascii code for 'a'\n",
    "\n",
    "print(ord('A'))"
   ]
  },
  {
   "cell_type": "code",
   "execution_count": 3,
   "id": "d545707f-2a54-4edb-a4cf-734d71bb3018",
   "metadata": {},
   "outputs": [
    {
     "name": "stdout",
     "output_type": "stream",
     "text": [
      "False\n"
     ]
    }
   ],
   "source": [
    "# Comparing two Ascii codes\n",
    "\n",
    "print('A' > 'a')"
   ]
  },
  {
   "cell_type": "code",
   "execution_count": 4,
   "id": "01d264e0-36c6-4d9b-a7bf-56d866ad39cd",
   "metadata": {},
   "outputs": [
    {
     "name": "stdout",
     "output_type": "stream",
     "text": [
      "False\n",
      "99\n",
      "100\n"
     ]
    }
   ],
   "source": [
    "# Comparing two strings\n",
    "\n",
    "print('abc' > 'abd')\n",
    "print(ord('c'))\n",
    "print(ord('d'))"
   ]
  },
  {
   "cell_type": "markdown",
   "id": "f8b96de4-179c-4ca5-aebe-646d75eda328",
   "metadata": {},
   "source": [
    "**Now moving on to string to check uppercase or not**"
   ]
  },
  {
   "cell_type": "code",
   "execution_count": 5,
   "id": "4de5a967-0cd4-4377-b942-7b32f7c3f6ee",
   "metadata": {},
   "outputs": [
    {
     "name": "stdout",
     "output_type": "stream",
     "text": [
      "True\n"
     ]
    }
   ],
   "source": [
    "print(\"HELLO PYTHON\".isupper())"
   ]
  },
  {
   "cell_type": "markdown",
   "id": "1ca25dd2-6142-4cbe-8730-07c057f4a1e0",
   "metadata": {},
   "source": [
    "**We will check this with string module**"
   ]
  },
  {
   "cell_type": "code",
   "execution_count": 6,
   "id": "8d4825e8-a872-4baf-bbfa-ddc749557913",
   "metadata": {},
   "outputs": [],
   "source": [
    "import string # importing a module/package"
   ]
  },
  {
   "cell_type": "markdown",
   "id": "4b7ea406-32c5-4c2f-a265-aaee19f4060c",
   "metadata": {},
   "source": [
    "**These are the methods available in string module**"
   ]
  },
  {
   "cell_type": "code",
   "execution_count": 7,
   "id": "a3f85cfa-5ac2-4791-aa53-6ccacc62de15",
   "metadata": {},
   "outputs": [
    {
     "name": "stdout",
     "output_type": "stream",
     "text": [
      "['Formatter', 'Template', '_ChainMap', '__all__', '__builtins__', '__cached__', '__doc__', '__file__', '__loader__', '__name__', '__package__', '__spec__', '_re', '_sentinel_dict', '_string', 'ascii_letters', 'ascii_lowercase', 'ascii_uppercase', 'capwords', 'digits', 'hexdigits', 'octdigits', 'printable', 'punctuation', 'whitespace']\n"
     ]
    }
   ],
   "source": [
    "print(dir(string))"
   ]
  },
  {
   "cell_type": "code",
   "execution_count": 8,
   "id": "d11af756-63e6-490d-83ef-6a7fda50c104",
   "metadata": {},
   "outputs": [
    {
     "name": "stdout",
     "output_type": "stream",
     "text": [
      "ABCDEFGHIJKLMNOPQRSTUVWXYZ\n"
     ]
    }
   ],
   "source": [
    "print(string.ascii_uppercase)"
   ]
  },
  {
   "cell_type": "markdown",
   "id": "ad6d0b97-752f-4561-91d4-9db710ddc53e",
   "metadata": {},
   "source": [
    "**NOTE: IN[6] is not a better uppercase check however pythonically correct**"
   ]
  },
  {
   "cell_type": "code",
   "execution_count": 9,
   "id": "5ceb60de-ff22-4cc9-bf46-a88d4b942c75",
   "metadata": {},
   "outputs": [],
   "source": [
    "# Let's do a check with string module uppercase values\n",
    "\n",
    "def is_upper_string(s):\n",
    "    \"\"\" Function to check given string is an upper case \"\"\"\n",
    "    \n",
    "    for letter in s:\n",
    "        if letter not in string.ascii_uppercase:\n",
    "            return False\n",
    "    return True"
   ]
  },
  {
   "cell_type": "code",
   "execution_count": 10,
   "id": "0c8d1587-8564-45e6-8536-8401062c03cf",
   "metadata": {},
   "outputs": [
    {
     "name": "stdout",
     "output_type": "stream",
     "text": [
      "False\n"
     ]
    }
   ],
   "source": [
    "# Checking the string with is_upper() user defined function\n",
    "\n",
    "print(is_upper_string(\"HELLO PYTHON\")) # This has a space inbetween two words"
   ]
  },
  {
   "cell_type": "code",
   "execution_count": 11,
   "id": "a7c69016-219b-4140-874c-0cbf1745f61b",
   "metadata": {},
   "outputs": [
    {
     "name": "stdout",
     "output_type": "stream",
     "text": [
      "True\n"
     ]
    }
   ],
   "source": [
    "# Checking the string with is_upper() user defined function\n",
    "\n",
    "print(is_upper_string(\"HELLOPYTHON\")) # This has no space inbetween two words"
   ]
  },
  {
   "cell_type": "code",
   "execution_count": 12,
   "id": "25ccf13d-4f15-41c3-9403-2a4eca55327e",
   "metadata": {},
   "outputs": [],
   "source": [
    "# Instead of using the method directly lets use set data structure\n",
    "\n",
    "uppercase_set = set(string.ascii_uppercase)\n",
    "\n",
    "def is_upper_using_set_string(s):\n",
    "    \"\"\" Function to check given string is an upper case using set \"\"\"\n",
    "    \n",
    "    for letter in s:\n",
    "        if letter not in uppercase_set:\n",
    "            return False\n",
    "    return True"
   ]
  },
  {
   "cell_type": "markdown",
   "id": "2bb1b208-81e6-43cb-9149-48e7d02ad1aa",
   "metadata": {},
   "source": [
    "**%timeit magic method gives mean and standard deviation of any execution with a million times loops each**"
   ]
  },
  {
   "cell_type": "code",
   "execution_count": 13,
   "id": "ab238783-7ed2-4cb7-91d6-b51e11af7dfc",
   "metadata": {},
   "outputs": [
    {
     "name": "stdout",
     "output_type": "stream",
     "text": [
      "535 ns ± 5.66 ns per loop (mean ± std. dev. of 7 runs, 1000000 loops each)\n"
     ]
    }
   ],
   "source": [
    "%timeit is_upper_string(\"HELLO PYTHON\")"
   ]
  },
  {
   "cell_type": "code",
   "execution_count": 14,
   "id": "d41bdba0-c2b2-4297-962b-97e568bd7d5f",
   "metadata": {},
   "outputs": [
    {
     "name": "stdout",
     "output_type": "stream",
     "text": [
      "322 ns ± 0.37 ns per loop (mean ± std. dev. of 7 runs, 1000000 loops each)\n"
     ]
    }
   ],
   "source": [
    "%timeit is_upper_using_set_string(\"HELLO PYTHON\")"
   ]
  },
  {
   "cell_type": "markdown",
   "id": "d826ef14-c837-4147-8062-a66e343f875b",
   "metadata": {},
   "source": [
    "**Let's have a more cleaner version**"
   ]
  },
  {
   "cell_type": "code",
   "execution_count": 15,
   "id": "4e80f26d-c067-46b1-a78b-b25495b98623",
   "metadata": {},
   "outputs": [],
   "source": [
    "def is_upper_clean_version(s):\n",
    "    \"\"\" using all inbuilt function \"\"\"\n",
    "    \n",
    "    return all(letter in uppercase_set for letter in s)"
   ]
  },
  {
   "cell_type": "markdown",
   "id": "1aa76fc0-48ab-4961-8098-65eb80051af0",
   "metadata": {},
   "source": [
    "**all() function return True if all the values should be True**"
   ]
  },
  {
   "cell_type": "code",
   "execution_count": 16,
   "id": "cb9c92ee-c195-4fdc-9095-16c29f7bc30a",
   "metadata": {},
   "outputs": [
    {
     "name": "stdout",
     "output_type": "stream",
     "text": [
      "False\n"
     ]
    }
   ],
   "source": [
    "print(is_upper_clean_version(\"HELLO MAGIC\"))"
   ]
  },
  {
   "cell_type": "code",
   "execution_count": 17,
   "id": "ca9acbfb-5870-4536-b7a8-6efaf59cdc7a",
   "metadata": {},
   "outputs": [
    {
     "name": "stdout",
     "output_type": "stream",
     "text": [
      "True\n"
     ]
    }
   ],
   "source": [
    "print(is_upper_clean_version(\"HELLOMAGIC\"))"
   ]
  },
  {
   "cell_type": "markdown",
   "id": "b8933918-27c3-43b3-b391-14243c6d36e6",
   "metadata": {},
   "source": [
    "**all ascii letters from a-zA-Z**"
   ]
  },
  {
   "cell_type": "code",
   "execution_count": 18,
   "id": "857fbd25-10f6-4c85-bc1a-e13128947d67",
   "metadata": {},
   "outputs": [
    {
     "name": "stdout",
     "output_type": "stream",
     "text": [
      "abcdefghijklmnopqrstuvwxyzABCDEFGHIJKLMNOPQRSTUVWXYZ\n"
     ]
    }
   ],
   "source": [
    "print(string.ascii_letters) "
   ]
  },
  {
   "cell_type": "markdown",
   "id": "eb49d471-6842-41e1-8011-aeb6789cda15",
   "metadata": {},
   "source": [
    "**all ascii letters from a-z**"
   ]
  },
  {
   "cell_type": "code",
   "execution_count": 19,
   "id": "9d0b7d18-9ee8-4b5c-80c8-df584f3b8ed1",
   "metadata": {},
   "outputs": [
    {
     "name": "stdout",
     "output_type": "stream",
     "text": [
      "abcdefghijklmnopqrstuvwxyz\n"
     ]
    }
   ],
   "source": [
    "print(string.ascii_lowercase)"
   ]
  },
  {
   "cell_type": "markdown",
   "id": "81bbac59-21fe-4a94-875b-8751c4ebcf03",
   "metadata": {},
   "source": [
    "**all numeric digits from 0-9**"
   ]
  },
  {
   "cell_type": "code",
   "execution_count": 20,
   "id": "440e4cb9-896a-4c42-b5d7-60599301a0c4",
   "metadata": {},
   "outputs": [
    {
     "name": "stdout",
     "output_type": "stream",
     "text": [
      "0123456789\n"
     ]
    }
   ],
   "source": [
    "print(string.digits)"
   ]
  },
  {
   "cell_type": "markdown",
   "id": "a2d3fec7-245b-485d-b0c1-20d7dac31cbd",
   "metadata": {},
   "source": [
    "**all hexadecimal digits from 0-9a-fA-F**"
   ]
  },
  {
   "cell_type": "code",
   "execution_count": 21,
   "id": "21c8c5ab-b96e-4ae2-b7e2-bed0d9e1b892",
   "metadata": {},
   "outputs": [
    {
     "name": "stdout",
     "output_type": "stream",
     "text": [
      "0123456789abcdefABCDEF\n"
     ]
    }
   ],
   "source": [
    "print(string.hexdigits)"
   ]
  },
  {
   "cell_type": "markdown",
   "id": "01a1086c-92d4-430d-bc9b-a78181fef921",
   "metadata": {},
   "source": [
    "**all octal decimal number from 0-7**"
   ]
  },
  {
   "cell_type": "code",
   "execution_count": 22,
   "id": "18600793-aa82-4359-9d89-aecdbf47761c",
   "metadata": {},
   "outputs": [
    {
     "name": "stdout",
     "output_type": "stream",
     "text": [
      "01234567\n"
     ]
    }
   ],
   "source": [
    "print(string.octdigits)"
   ]
  },
  {
   "cell_type": "markdown",
   "id": "25e9bbbd-e926-4f1e-9f93-87fe40d6d4cf",
   "metadata": {},
   "source": [
    "**all punctuation marks**"
   ]
  },
  {
   "cell_type": "code",
   "execution_count": 23,
   "id": "d49c783f-41ad-4c1f-84f7-d50550d87bf8",
   "metadata": {},
   "outputs": [
    {
     "name": "stdout",
     "output_type": "stream",
     "text": [
      "!\"#$%&'()*+,-./:;<=>?@[\\]^_`{|}~\n"
     ]
    }
   ],
   "source": [
    "print(string.punctuation)"
   ]
  },
  {
   "cell_type": "markdown",
   "id": "73d850d2-3891-4f2f-b3b0-0ae8182bd290",
   "metadata": {},
   "source": [
    "**all printable characters**"
   ]
  },
  {
   "cell_type": "code",
   "execution_count": 24,
   "id": "f3a7510d-6abf-4254-8fdc-17c6d1eb8495",
   "metadata": {},
   "outputs": [
    {
     "data": {
      "text/plain": [
       "'0123456789abcdefghijklmnopqrstuvwxyzABCDEFGHIJKLMNOPQRSTUVWXYZ!\"#$%&\\'()*+,-./:;<=>?@[\\\\]^_`{|}~ \\t\\n\\r\\x0b\\x0c'"
      ]
     },
     "execution_count": 24,
     "metadata": {},
     "output_type": "execute_result"
    }
   ],
   "source": [
    "string.printable"
   ]
  },
  {
   "cell_type": "markdown",
   "id": "28a3aad0-1458-4f1e-8560-d7c16a3db02a",
   "metadata": {},
   "source": [
    "**all possible whitespaces**"
   ]
  },
  {
   "cell_type": "code",
   "execution_count": 25,
   "id": "97fbea65-918d-40b6-8119-3e5113e370c8",
   "metadata": {},
   "outputs": [
    {
     "data": {
      "text/plain": [
       "' \\t\\n\\r\\x0b\\x0c'"
      ]
     },
     "execution_count": 25,
     "metadata": {},
     "output_type": "execute_result"
    }
   ],
   "source": [
    "string.whitespace"
   ]
  },
  {
   "cell_type": "markdown",
   "id": "fce8b361-1ca4-46d5-baad-c5ba4bcb4cdb",
   "metadata": {},
   "source": [
    "**Example of removing all whitespaces from a string**"
   ]
  },
  {
   "cell_type": "code",
   "execution_count": 26,
   "id": "19e456f1-141e-4f98-be03-e6d5af66b80e",
   "metadata": {},
   "outputs": [],
   "source": [
    "whitespace_set = set(string.whitespace)"
   ]
  },
  {
   "cell_type": "code",
   "execution_count": 27,
   "id": "5e97cb57-e549-4929-958e-81a84a769a67",
   "metadata": {},
   "outputs": [
    {
     "name": "stdout",
     "output_type": "stream",
     "text": [
      "MAGICWORLD\n"
     ]
    }
   ],
   "source": [
    "# Method 1\n",
    "\n",
    "whitespace_removed = \"\"\n",
    "\n",
    "for letter in \"MAGIC WORLD\":\n",
    "    if letter not in whitespace_set:\n",
    "        whitespace_removed = whitespace_removed + letter\n",
    "        \n",
    "print(whitespace_removed)"
   ]
  },
  {
   "cell_type": "code",
   "execution_count": 28,
   "id": "9994a584-21ec-4a87-aaa4-f36046c37331",
   "metadata": {},
   "outputs": [
    {
     "name": "stdout",
     "output_type": "stream",
     "text": [
      "MAGICWORLD\n"
     ]
    }
   ],
   "source": [
    "# Method 2\n",
    "\n",
    "print(\"\".join(letter for letter in \"MAGIC WORLD\" if letter not in whitespace_set))"
   ]
  },
  {
   "cell_type": "markdown",
   "id": "bbc020c5-2e72-455d-9fb2-d0b11de1556f",
   "metadata": {},
   "source": [
    "### End of Course"
   ]
  }
 ],
 "metadata": {
  "kernelspec": {
   "display_name": "Python 3",
   "language": "python",
   "name": "python3"
  },
  "language_info": {
   "codemirror_mode": {
    "name": "ipython",
    "version": 3
   },
   "file_extension": ".py",
   "mimetype": "text/x-python",
   "name": "python",
   "nbconvert_exporter": "python",
   "pygments_lexer": "ipython3",
   "version": "3.9.5"
  }
 },
 "nbformat": 4,
 "nbformat_minor": 5
}
